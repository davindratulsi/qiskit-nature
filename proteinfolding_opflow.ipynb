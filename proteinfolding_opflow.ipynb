{
 "cells": [
  {
   "cell_type": "code",
   "execution_count": 1,
   "id": "prescribed-frost",
   "metadata": {},
   "outputs": [],
   "source": [
    "import numpy as np\n",
    "from qiskit.opflow import *\n",
    "from qiskit.aqua.operators import SummedOp, PauliOp, MatrixOp\n",
    "from qiskit.quantum_info import *"
   ]
  },
  {
   "cell_type": "code",
   "execution_count": 2,
   "id": "bibliographic-violation",
   "metadata": {},
   "outputs": [],
   "source": [
    "N = 5\n",
    "num_turns = 2*(N - 1)\n",
    "side_chain = [0]*N\n",
    "lambda_back = 10\n",
    "\n",
    "# GLOBAL\n",
    "FULL_ID = I\n",
    "for i in range(1, num_turns):\n",
    "    FULL_ID = I^FULL_ID"
   ]
  },
  {
   "cell_type": "code",
   "execution_count": 3,
   "id": "ready-mathematics",
   "metadata": {},
   "outputs": [],
   "source": [
    "def _create_pauli_for_conf(N):\n",
    "    terms = []\n",
    "    num_turns = 2*(N - 1)\n",
    "    pauli_conf = np.zeros((num_turns, 2), dtype=object)\n",
    "\n",
    "    for index in range(num_turns):\n",
    "        if index != 0: \n",
    "            temp = I\n",
    "        else: \n",
    "            temp = Z\n",
    "        for i in range(1, num_turns):\n",
    "            if i == index: \n",
    "                temp = temp^Z\n",
    "            else:\n",
    "                temp = temp^I\n",
    "        terms.append(temp)\n",
    "#     terms.reverse()\n",
    "    \n",
    "    for i in range(num_turns):\n",
    "        pauli_conf[i][0] = terms[i]\n",
    "        pauli_conf[i][1] = terms[i]   \n",
    "    return pauli_conf\n",
    "\n",
    "def _create_qubits_for_conf(pauli_conf):\n",
    "    qubits = np.zeros(pauli_conf.shape, dtype=object)\n",
    "    num_turns = qubits.shape[0]\n",
    "    for i in range(num_turns):\n",
    "        qubits[i][0] = (0.5*FULL_ID - 0.5*pauli_conf[i][0])\n",
    "        qubits[i][1] = (0.5*FULL_ID - 0.5*pauli_conf[i][1])\n",
    "    return qubits"
   ]
  },
  {
   "cell_type": "markdown",
   "id": "vanilla-teens",
   "metadata": {},
   "source": [
    "# Create paulis for conformation"
   ]
  },
  {
   "cell_type": "code",
   "execution_count": 4,
   "id": "handed-arena",
   "metadata": {},
   "outputs": [],
   "source": [
    "pauli_conf = _create_pauli_for_conf(N)"
   ]
  },
  {
   "cell_type": "code",
   "execution_count": 5,
   "id": "raised-commodity",
   "metadata": {},
   "outputs": [
    {
     "data": {
      "text/plain": [
       "array([[PauliOp(Pauli('ZIIIIIII'), coeff=1.0),\n",
       "        PauliOp(Pauli('ZIIIIIII'), coeff=1.0)],\n",
       "       [PauliOp(Pauli('IZIIIIII'), coeff=1.0),\n",
       "        PauliOp(Pauli('IZIIIIII'), coeff=1.0)],\n",
       "       [PauliOp(Pauli('IIZIIIII'), coeff=1.0),\n",
       "        PauliOp(Pauli('IIZIIIII'), coeff=1.0)],\n",
       "       [PauliOp(Pauli('IIIZIIII'), coeff=1.0),\n",
       "        PauliOp(Pauli('IIIZIIII'), coeff=1.0)],\n",
       "       [PauliOp(Pauli('IIIIZIII'), coeff=1.0),\n",
       "        PauliOp(Pauli('IIIIZIII'), coeff=1.0)],\n",
       "       [PauliOp(Pauli('IIIIIZII'), coeff=1.0),\n",
       "        PauliOp(Pauli('IIIIIZII'), coeff=1.0)],\n",
       "       [PauliOp(Pauli('IIIIIIZI'), coeff=1.0),\n",
       "        PauliOp(Pauli('IIIIIIZI'), coeff=1.0)],\n",
       "       [PauliOp(Pauli('IIIIIIIZ'), coeff=1.0),\n",
       "        PauliOp(Pauli('IIIIIIIZ'), coeff=1.0)]], dtype=object)"
      ]
     },
     "execution_count": 5,
     "metadata": {},
     "output_type": "execute_result"
    }
   ],
   "source": [
    "pauli_conf"
   ]
  },
  {
   "cell_type": "markdown",
   "id": "defensive-visiting",
   "metadata": {},
   "source": [
    "# Create qubits for conformation"
   ]
  },
  {
   "cell_type": "code",
   "execution_count": 6,
   "id": "assumed-blanket",
   "metadata": {},
   "outputs": [],
   "source": [
    "qubits = _create_qubits_for_conf(pauli_conf)"
   ]
  },
  {
   "cell_type": "code",
   "execution_count": 73,
   "id": "vocal-property",
   "metadata": {},
   "outputs": [],
   "source": [
    "def _create_indic_turn(N, side_chain, qubits):\n",
    "    if len(side_chain)!= N:\n",
    "        raise Exception('size of side_chain list is not equal to N')\n",
    "    num_turns = N - 1 \n",
    "    indic_0 = np.zeros((num_turns, 2), dtype=object)\n",
    "    indic_1 = np.zeros((num_turns, 2), dtype=object)\n",
    "    indic_2 = np.zeros((num_turns, 2), dtype=object)\n",
    "    indic_3 = np.zeros((num_turns, 2), dtype=object)\n",
    "    r_conf = 0\n",
    "    for i in range(num_turns):\n",
    "        for m in range(2):\n",
    "            if m == 1:\n",
    "                if side_chain[i - 1] == 0:\n",
    "                    continue\n",
    "                else:\n",
    "                    pass\n",
    "            indic_0[i][m] = (FULL_ID - qubits[2*i - 1][m])^(FULL_ID - qubits[2*i][m])\n",
    "            indic_1[i][m] = qubits[2*i][m]^(qubits[2*i][m] - 1*qubits[2*i - 1][m])\n",
    "            indic_2[i][m] = qubits[2*i - 1][m]^(qubits[2*i - 1][m] -1*qubits[2*i][m])\n",
    "            indic_3[i][m] = qubits[2*i - 1][m]^qubits[2*i][m]\n",
    "            indic_0[i][m] = indic_0[i][m].reduce()\n",
    "            indic_1[i][m] = indic_1[i][m].reduce()\n",
    "            indic_2[i][m] = indic_2[i][m].reduce()\n",
    "            indic_3[i][m] = indic_3[i][m].reduce()\n",
    "            r_conf += 1\n",
    "    num_qubits = 2*r_conf - 5\n",
    "    print('number of qubits required for conformation: ', num_qubits)\n",
    "    return indic_0, indic_1, indic_2, indic_3, num_qubits\n",
    "\n",
    "\n",
    "def _check_turns(i, p, j, s,\n",
    "                 indic0, indic1, indic2,\n",
    "                 indic3, pauli_conf):\n",
    "    t_ij = indic0[i][p]^indic0[j][s]\n",
    "    t_ij.add(indic1[i][p]^indic1[j][s])\n",
    "    t_ij.add(indic2[i][p]^indic2[j][s])\n",
    "    t_ij.add(indic3[i][p]^indic3[j][s]) \n",
    "    t_ij = t_ij.reduce()\n",
    "    return t_ij\n",
    "\n",
    "\n",
    "# def _create_H_back(N, lambda_back, indic_0,\n",
    "#                    indic_1, indic_2, indic_3,\n",
    "#                    pauli_conf):\n",
    "#     H_back = 0\n",
    "#     for i in range(N - 2):\n",
    "#         H_back += lambda_back*_check_turns(i, 0, i + 1, 0,\n",
    "#                                            indic_0, indic_1, indic_2, indic_3, pauli_conf)\n",
    "#     return H_back\n",
    "\n",
    "\n",
    "def _create_H_back(N, lambda_back, indic_0,\n",
    "                   indic_1, indic_2, indic_3,\n",
    "                   pauli_conf):\n",
    "    H_back = lambda_back*_check_turns(0, 0, 1, 0,\n",
    "                                       indic_0, indic_1, indic_2, indic_3, pauli_conf)\n",
    "    for i in range(1, N - 2):\n",
    "        H_back.add(lambda_back*_check_turns(i, 0, i + 1, 0, indic_0, \n",
    "                                            indic_1, indic_2, indic_3, pauli_conf))\n",
    "    return H_back"
   ]
  },
  {
   "cell_type": "code",
   "execution_count": 74,
   "id": "square-seller",
   "metadata": {},
   "outputs": [
    {
     "name": "stdout",
     "output_type": "stream",
     "text": [
      "number of qubits required for conformation:  3\n"
     ]
    }
   ],
   "source": [
    "indic_0, indic_1, indic_2, indic_3, num_qubits = _create_indic_turn(N, side_chain, qubits)\n",
    "H_back = 0\n",
    "H_back = _create_H_back(N, lambda_back, indic_0, indic_1, indic_2, indic_3, pauli_conf)"
   ]
  },
  {
   "cell_type": "code",
   "execution_count": 75,
   "id": "numerical-adaptation",
   "metadata": {},
   "outputs": [
    {
     "name": "stdout",
     "output_type": "stream",
     "text": [
      "Term is 0.25 * IIIIIIIIIIIIIIII\n",
      "- 0.25 * IIIIIIIZIIIIIIII\n",
      "- 0.25 * IIIIIIIIZIIIIIII\n",
      "+ 0.25 * IIIIIIIZZIIIIIII\n",
      "Term is 0.25 * IIIIIIIIIIIIIIII\n",
      "- 0.25 * IZIIIIIIIIIIIIII\n",
      "- 0.25 * IIIIIIIIIIZIIIII\n",
      "+ 0.25 * IZIIIIIIIIZIIIII\n",
      "Term is 0.25 * IIIIIIIIIIIIIIII\n",
      "- 0.25 * IIIZIIIIIIIIIIII\n",
      "- 0.25 * IIIIIIIIIIIIZIII\n",
      "+ 0.25 * IIIZIIIIIIIIZIII\n",
      "Term is 0.25 * IIIIIIIIIIIIIIII\n",
      "- 0.25 * IIIIIZIIIIIIIIII\n",
      "- 0.25 * IIIIIIIIIIIIIIZI\n",
      "+ 0.25 * IIIIIZIIIIIIIIZI\n"
     ]
    }
   ],
   "source": [
    "for i in indic_3:\n",
    "    print('Term is {}'.format(i[0]))"
   ]
  },
  {
   "cell_type": "code",
   "execution_count": 86,
   "id": "fallen-pointer",
   "metadata": {},
   "outputs": [
    {
     "name": "stdout",
     "output_type": "stream",
     "text": [
      "[False False False False False False False  True  True False False False\n",
      " False False False False]\n"
     ]
    }
   ],
   "source": [
    "arr = indic_3[0][0].primitive[3].table.Z[0]\n",
    "print(arr)"
   ]
  },
  {
   "cell_type": "code",
   "execution_count": 77,
   "id": "technical-visiting",
   "metadata": {},
   "outputs": [
    {
     "data": {
      "text/plain": [
       "(array([7, 8]),)"
      ]
     },
     "execution_count": 77,
     "metadata": {},
     "output_type": "execute_result"
    }
   ],
   "source": [
    "np.where(arr == np.bool_(True))"
   ]
  },
  {
   "cell_type": "code",
   "execution_count": 10,
   "id": "attached-motel",
   "metadata": {},
   "outputs": [],
   "source": [
    "# def _update_indic_turn(indic, N):\n",
    "#     num_turns = N - 1\n",
    "#     num_coeffs = \n",
    "#     new_tables = []\n",
    "#     coeffs = []\n",
    "#     indic_updated = indic.copy()\n",
    "\n",
    "#     for k in range(num_turns):\n",
    "#         for l in range(num_turns):\n",
    "#             table_Z = indic[k][0].primitive[l].table.X[0][7:10] # hardcoded\n",
    "#             table_X = indic[k][0].primitive[l].table.Z[0][7:10] # harcoded\n",
    "#             new_table = np.concatenate((table_Z, table_X), axis=0)\n",
    "#             coeff = indic[k][0].primitive[l].coeffs[0]\n",
    "#             new_tables.append(new_table)\n",
    "#             coeffs.append(coeff)\n",
    "#         new_pauli_table = PauliTable(data=new_tables)\n",
    "#         indic_updated[k][0] = PauliSumOp(SparsePauliOp(new_pauli_table, coeffs=coeffs))\n",
    "#         indic_updated[k][0] = indic_updated[k][0].reduce()\n",
    "#     return indic_updated"
   ]
  },
  {
   "cell_type": "code",
   "execution_count": 12,
   "id": "inappropriate-highway",
   "metadata": {},
   "outputs": [],
   "source": [
    "# indic_0_updated = _update_indic_turn(indic_0, N)\n",
    "# indic_1_updated = _update_indic_turn(indic_1, N)\n",
    "# indic_2_updated = _update_indic_turn(indic_2, N)\n",
    "# indic_3_updated = _update_indic_turn(indic_3, N)"
   ]
  },
  {
   "cell_type": "code",
   "execution_count": 13,
   "id": "collectible-march",
   "metadata": {},
   "outputs": [],
   "source": []
  },
  {
   "cell_type": "code",
   "execution_count": null,
   "id": "working-equation",
   "metadata": {},
   "outputs": [],
   "source": []
  }
 ],
 "metadata": {
  "kernelspec": {
   "display_name": "Python 3",
   "language": "python",
   "name": "python3"
  },
  "language_info": {
   "codemirror_mode": {
    "name": "ipython",
    "version": 3
   },
   "file_extension": ".py",
   "mimetype": "text/x-python",
   "name": "python",
   "nbconvert_exporter": "python",
   "pygments_lexer": "ipython3",
   "version": "3.8.5"
  }
 },
 "nbformat": 4,
 "nbformat_minor": 5
}
