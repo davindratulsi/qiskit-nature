{
 "cells": [
  {
   "cell_type": "code",
   "execution_count": 1,
   "id": "prescribed-frost",
   "metadata": {},
   "outputs": [],
   "source": [
    "import numpy as np\n",
    "from qiskit.opflow import *\n",
    "from qiskit.aqua.operators import SummedOp, PauliOp, MatrixOp\n",
    "from qiskit.quantum_info import *"
   ]
  },
  {
   "cell_type": "code",
   "execution_count": 2,
   "id": "bibliographic-violation",
   "metadata": {},
   "outputs": [],
   "source": [
    "N = 5\n",
    "num_turns = 2*(N - 1)\n",
    "side_chain = [0]*N\n",
    "lambda_back = 10\n",
    "\n",
    "# GLOBAL\n",
    "FULL_ID = I\n",
    "for i in range(1, num_turns):\n",
    "    FULL_ID = I^FULL_ID"
   ]
  },
  {
   "cell_type": "code",
   "execution_count": 3,
   "id": "ready-mathematics",
   "metadata": {},
   "outputs": [],
   "source": [
    "def _create_pauli_for_conf(N):\n",
    "    terms = []\n",
    "    num_turns = 2*(N - 1)\n",
    "    pauli_conf = np.zeros((num_turns, 2), dtype=object)\n",
    "    \n",
    "    for index in range(num_turns):\n",
    "        if index != 0: \n",
    "            temp = I\n",
    "        else: \n",
    "            temp = Z\n",
    "        for i in range(1, num_turns):\n",
    "            if i == index: \n",
    "                temp = Z^temp\n",
    "            else:\n",
    "                temp = I^temp\n",
    "        terms.append(temp)    \n",
    "        \n",
    "    for i in range(num_turns):\n",
    "        pauli_conf[i][0] = terms[i]\n",
    "        pauli_conf[i][1] = terms[i]   \n",
    "    return pauli_conf\n",
    "\n",
    "def _create_qubits_for_conf(pauli_conf):\n",
    "    qubits = np.zeros(pauli_conf.shape, dtype=object)\n",
    "    num_turns = qubits.shape[0]\n",
    "    for i in range(num_turns):\n",
    "        qubits[i][0] = (0.5*FULL_ID - 0.5*pauli_conf[i][0])\n",
    "        qubits[i][1] = (0.5*FULL_ID - 0.5*pauli_conf[i][1])\n",
    "    return qubits"
   ]
  },
  {
   "cell_type": "markdown",
   "id": "vanilla-teens",
   "metadata": {},
   "source": [
    "# Create paulis for conformation"
   ]
  },
  {
   "cell_type": "code",
   "execution_count": 4,
   "id": "handed-arena",
   "metadata": {},
   "outputs": [],
   "source": [
    "pauli_conf = _create_pauli_for_conf(N)"
   ]
  },
  {
   "cell_type": "code",
   "execution_count": 5,
   "id": "raised-commodity",
   "metadata": {},
   "outputs": [
    {
     "data": {
      "text/plain": [
       "array([[PauliOp(Pauli('IIIIIIIZ'), coeff=1.0),\n",
       "        PauliOp(Pauli('IIIIIIIZ'), coeff=1.0)],\n",
       "       [PauliOp(Pauli('IIIIIIZI'), coeff=1.0),\n",
       "        PauliOp(Pauli('IIIIIIZI'), coeff=1.0)],\n",
       "       [PauliOp(Pauli('IIIIIZII'), coeff=1.0),\n",
       "        PauliOp(Pauli('IIIIIZII'), coeff=1.0)],\n",
       "       [PauliOp(Pauli('IIIIZIII'), coeff=1.0),\n",
       "        PauliOp(Pauli('IIIIZIII'), coeff=1.0)],\n",
       "       [PauliOp(Pauli('IIIZIIII'), coeff=1.0),\n",
       "        PauliOp(Pauli('IIIZIIII'), coeff=1.0)],\n",
       "       [PauliOp(Pauli('IIZIIIII'), coeff=1.0),\n",
       "        PauliOp(Pauli('IIZIIIII'), coeff=1.0)],\n",
       "       [PauliOp(Pauli('IZIIIIII'), coeff=1.0),\n",
       "        PauliOp(Pauli('IZIIIIII'), coeff=1.0)],\n",
       "       [PauliOp(Pauli('ZIIIIIII'), coeff=1.0),\n",
       "        PauliOp(Pauli('ZIIIIIII'), coeff=1.0)]], dtype=object)"
      ]
     },
     "execution_count": 5,
     "metadata": {},
     "output_type": "execute_result"
    }
   ],
   "source": [
    "pauli_conf"
   ]
  },
  {
   "cell_type": "markdown",
   "id": "defensive-visiting",
   "metadata": {},
   "source": [
    "# Create qubits for conformation"
   ]
  },
  {
   "cell_type": "code",
   "execution_count": 6,
   "id": "assumed-blanket",
   "metadata": {},
   "outputs": [],
   "source": [
    "qubits = _create_qubits_for_conf(pauli_conf)"
   ]
  },
  {
   "cell_type": "code",
   "execution_count": 23,
   "id": "vocal-property",
   "metadata": {},
   "outputs": [],
   "source": [
    "def _create_indic_turn(N, side_chain, qubits):\n",
    "    if len(side_chain)!= N:\n",
    "        raise Exception('size of side_chain list is not equal to N')\n",
    "    num_turns = N - 1 \n",
    "    indic_0 = np.zeros((num_turns, 2), dtype=object)\n",
    "    indic_1 = np.zeros((num_turns, 2), dtype=object)\n",
    "    indic_2 = np.zeros((num_turns, 2), dtype=object)\n",
    "    indic_3 = np.zeros((num_turns, 2), dtype=object)\n",
    "    r_conf = 0\n",
    "    for i in range(num_turns):\n",
    "        for m in range(2):\n",
    "            if m == 1:\n",
    "                if side_chain[i - 1] == 0:\n",
    "                    continue\n",
    "                else:\n",
    "                    pass\n",
    "            indic_0[i][m] = (FULL_ID - qubits[2*i][m])@(FULL_ID - qubits[2*i + 1][m])\n",
    "            indic_1[i][m] = qubits[2*i + 1][m]@(qubits[2*i + 1][m] - 1*qubits[2*i][m])\n",
    "            indic_2[i][m] = qubits[2*i][m]@(qubits[2*i][m] -1*qubits[2*i + 1][m])\n",
    "            indic_3[i][m] = qubits[2*i][m]@(qubits[2*i + 1][m])\n",
    "            r_conf += 1\n",
    "    num_qubits = 2*r_conf - 5\n",
    "    print('number of qubits required for conformation: ', num_qubits)\n",
    "    return indic_0, indic_1, indic_2, indic_3, num_qubits\n",
    "\n",
    "\n",
    "def _check_turns(i, p, j, s,\n",
    "                 indic0, indic1, indic2, indic3):\n",
    "    t_ij = indic0[i][p]@indic0[j][s] + indic1[i][p]@indic1[j][s] + \\\n",
    "           indic2[i][p]@indic2[j][s] + indic3[i][p]@indic3[j][s] \n",
    "    return t_ij\n",
    "\n",
    "\n",
    "def _create_H_back(N, lambda_back, indic_0,\n",
    "                   indic_1, indic_2, indic_3):\n",
    "    H_back = 0\n",
    "    for i in range(N - 2):\n",
    "        H_back += lambda_back*_check_turns(i, 0, i + 1, 0,\n",
    "                                           indic_0, indic_1, indic_2, indic_3)\n",
    "    H_back = H_back.reduce()\n",
    "    return H_back"
   ]
  },
  {
   "cell_type": "code",
   "execution_count": 24,
   "id": "square-seller",
   "metadata": {},
   "outputs": [
    {
     "name": "stdout",
     "output_type": "stream",
     "text": [
      "number of qubits required for conformation:  3\n"
     ]
    }
   ],
   "source": [
    "indic_0, indic_1, indic_2, indic_3, num_qubits = _create_indic_turn(N, side_chain, qubits)\n",
    "H_back = _create_H_back(N, lambda_back, indic_0, indic_1, indic_2, indic_3)"
   ]
  },
  {
   "cell_type": "markdown",
   "id": "amazing-diversity",
   "metadata": {},
   "source": [
    "## Need to create a function that enforces pre-set binaries\n",
    "\n",
    "As in the paper, first two turns are fixed to be (in binary)\n",
    "01 and 00, which translate to 1,-1 and 1,1, respectively in\n",
    "spin variables. With no side chain on the 2nd bead, we further\n",
    "fix the value of the 6th qubit, q_6 = 1 (-1 for the corresponding\n",
    "Pauli).\n",
    "\n",
    "So, we change:\n",
    "- Pauli[0] = I\n",
    "- Pauli[1] = -I\n",
    "- Pauli[2] = I\n",
    "- Pauli[3] = I\n",
    "- Pauli[5] = -I"
   ]
  },
  {
   "cell_type": "code",
   "execution_count": 20,
   "id": "adult-dimension",
   "metadata": {},
   "outputs": [],
   "source": [
    "def _set_binaries(H_back):\n",
    "    new_tables = []\n",
    "    new_coeffs = []\n",
    "    for i in range(len(H_back)):\n",
    "        H = H_back[i]\n",
    "        table_Z = np.copy(H.primitive.table.Z[0])\n",
    "        table_X = np.copy(H.primitive.table.X[0])\n",
    "        # get coeffs and update \n",
    "        coeffs = np.copy(H.primitive.coeffs[0])\n",
    "        if table_Z[1] == np.bool_(True):\n",
    "            coeffs = -1*coeffs\n",
    "        if table_Z[5] == np.bool_(True):\n",
    "            coeffs = -1*coeffs\n",
    "        # impose preset binary values\n",
    "        table_Z[0] = np.bool_(False)\n",
    "        table_Z[1] = np.bool_(False)\n",
    "        table_Z[2] = np.bool_(False)\n",
    "        table_Z[3] = np.bool_(False)\n",
    "        table_Z[5] = np.bool_(False)        \n",
    "        new_table = np.concatenate((table_X, table_Z), axis=0)\n",
    "        new_tables.append(new_table)\n",
    "        new_coeffs.append(coeffs)\n",
    "    new_pauli_table = PauliTable(data=new_tables)\n",
    "    H_back_updated = PauliSumOp(SparsePauliOp(data=new_pauli_table, coeffs=new_coeffs))     \n",
    "    H_back_updated = H_back_updated.reduce()\n",
    "    return H_back_updated"
   ]
  },
  {
   "cell_type": "code",
   "execution_count": 14,
   "id": "specific-thanks",
   "metadata": {},
   "outputs": [],
   "source": [
    "H_back_updated = _set_binaries(H_back)"
   ]
  },
  {
   "cell_type": "code",
   "execution_count": 15,
   "id": "gentle-cutting",
   "metadata": {},
   "outputs": [
    {
     "name": "stdout",
     "output_type": "stream",
     "text": [
      "2.5 * IIIIIIII\n",
      "-2.5 * ZIIIIIII\n",
      "2.5 * IZIZIIII\n",
      "-2.5 * ZZIZIIII\n"
     ]
    }
   ],
   "source": [
    "for H in H_back_updated:\n",
    "    print(H)"
   ]
  },
  {
   "cell_type": "markdown",
   "id": "lasting-tobacco",
   "metadata": {},
   "source": [
    "## Need to create a 'mask' that will create the qubit operator with the right number of qubits (in this case, 3)\n",
    "\n",
    "Or possible combine setting binaries and change number of qubits in one function/method?"
   ]
  },
  {
   "cell_type": "code",
   "execution_count": null,
   "id": "married-shore",
   "metadata": {},
   "outputs": [],
   "source": []
  },
  {
   "cell_type": "markdown",
   "id": "flying-festival",
   "metadata": {},
   "source": [
    "## Compare to latticefolding problem implementation using symbolic mathematics"
   ]
  },
  {
   "cell_type": "code",
   "execution_count": 18,
   "id": "stopped-butler",
   "metadata": {},
   "outputs": [
    {
     "name": "stdout",
     "output_type": "stream",
     "text": [
      "number of qubits required for conformation:  3\n",
      "10  distances created\n",
      "number of qubits required for contact :  0\n",
      "total number of qubits required : 3\n",
      "number of terms in the hamiltonian :  4\n",
      "Hamiltonian:  -5*\\sigma^z_{5}*\\sigma^z_{7}*\\sigma^z_{8}/2 + 5*\\sigma^z_{5}*\\sigma^z_{7}/2 - 5*\\sigma^z_{8}/2 + 5/2\n",
      "new qubits:  [0, \\sigma^z_{5}, \\sigma^z_{7}, \\sigma^z_{8}]\n",
      "Mask is [[ 2.5  0.   0.   0. ]\n",
      " [-2.5  0.   0.   1. ]\n",
      " [ 2.5  1.   1.   0. ]\n",
      " [-2.5  1.   1.   1. ]]\n",
      "pauli_list:  [array([-2.5, Pauli('ZZZ')], dtype=object), array([2.5, Pauli('IZZ')], dtype=object), array([-2.5, Pauli('ZII')], dtype=object), array([2.5, Pauli('III')], dtype=object)]\n"
     ]
    },
    {
     "data": {
      "text/plain": [
       "SummedOp([PauliOp(Pauli('ZZZ'), coeff=-2.5), PauliOp(Pauli('IZZ'), coeff=2.5), PauliOp(Pauli('ZII'), coeff=-2.5), PauliOp(Pauli('III'), coeff=2.5)], coeff=1.0, abelian=False)"
      ]
     },
     "execution_count": 18,
     "metadata": {},
     "output_type": "execute_result"
    }
   ],
   "source": [
    "from qiskit_nature.problems.sampling.folding import LatticeFoldingProblem\n",
    "# default parameters are the same: 5 letter peptide \n",
    "lf = LatticeFoldingProblem()\n",
    "lf.pauli_op()\n",
    "# final result is the SummedOp"
   ]
  },
  {
   "cell_type": "code",
   "execution_count": null,
   "id": "advisory-combination",
   "metadata": {},
   "outputs": [],
   "source": []
  }
 ],
 "metadata": {
  "kernelspec": {
   "display_name": "Python 3",
   "language": "python",
   "name": "python3"
  },
  "language_info": {
   "codemirror_mode": {
    "name": "ipython",
    "version": 3
   },
   "file_extension": ".py",
   "mimetype": "text/x-python",
   "name": "python",
   "nbconvert_exporter": "python",
   "pygments_lexer": "ipython3",
   "version": "3.8.5"
  }
 },
 "nbformat": 4,
 "nbformat_minor": 5
}
