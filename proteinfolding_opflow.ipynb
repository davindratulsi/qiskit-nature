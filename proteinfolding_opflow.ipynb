{
 "cells": [
  {
   "cell_type": "code",
   "execution_count": 1,
   "id": "prescribed-frost",
   "metadata": {},
   "outputs": [],
   "source": [
    "import numpy as np\n",
    "from qiskit.opflow import *\n",
    "from qiskit.aqua.operators import SummedOp, PauliOp, MatrixOp\n",
    "from qiskit.quantum_info import *"
   ]
  },
  {
   "cell_type": "code",
   "execution_count": 2,
   "id": "bibliographic-violation",
   "metadata": {},
   "outputs": [],
   "source": [
    "N = 5\n",
    "num_turns = 2*(N - 1)\n",
    "side_chain = [0]*N\n",
    "lambda_back = 10\n",
    "\n",
    "# GLOBAL\n",
    "FULL_ID = I\n",
    "for i in range(1, num_turns):\n",
    "    FULL_ID = I^FULL_ID"
   ]
  },
  {
   "cell_type": "code",
   "execution_count": 3,
   "id": "ready-mathematics",
   "metadata": {},
   "outputs": [],
   "source": [
    "def _create_pauli_for_conf(N):\n",
    "    terms = []\n",
    "    num_turns = 2*(N - 1)\n",
    "    pauli_conf = np.zeros((num_turns, 2), dtype=object)\n",
    "\n",
    "    for index in range(num_turns):\n",
    "        if index != 0: \n",
    "            temp = I\n",
    "        else: \n",
    "            temp = Z\n",
    "        for i in range(1, num_turns):\n",
    "            if i == index: \n",
    "                temp = Z^temp\n",
    "            else:\n",
    "                temp = I^temp\n",
    "        terms.append(temp)\n",
    "#     terms.reverse()\n",
    "    \n",
    "    for i in range(num_turns):\n",
    "        pauli_conf[i][0] = terms[i]\n",
    "        pauli_conf[i][1] = terms[i]   \n",
    "    return pauli_conf\n",
    "\n",
    "def _create_qubits_for_conf(pauli_conf):\n",
    "    qubits = np.zeros(pauli_conf.shape, dtype=object)\n",
    "    num_turns = qubits.shape[0]\n",
    "    for i in range(num_turns):\n",
    "        qubits[i][0] = (0.5*FULL_ID - 0.5*pauli_conf[i][0])\n",
    "        qubits[i][1] = (0.5*FULL_ID - 0.5*pauli_conf[i][1])\n",
    "    return qubits"
   ]
  },
  {
   "cell_type": "markdown",
   "id": "vanilla-teens",
   "metadata": {},
   "source": [
    "# Create paulis for conformation"
   ]
  },
  {
   "cell_type": "code",
   "execution_count": 4,
   "id": "handed-arena",
   "metadata": {},
   "outputs": [],
   "source": [
    "pauli_conf = _create_pauli_for_conf(N)"
   ]
  },
  {
   "cell_type": "code",
   "execution_count": 5,
   "id": "raised-commodity",
   "metadata": {},
   "outputs": [
    {
     "data": {
      "text/plain": [
       "array([[PauliOp(Pauli('IIIIIIIZ'), coeff=1.0),\n",
       "        PauliOp(Pauli('IIIIIIIZ'), coeff=1.0)],\n",
       "       [PauliOp(Pauli('IIIIIIZI'), coeff=1.0),\n",
       "        PauliOp(Pauli('IIIIIIZI'), coeff=1.0)],\n",
       "       [PauliOp(Pauli('IIIIIZII'), coeff=1.0),\n",
       "        PauliOp(Pauli('IIIIIZII'), coeff=1.0)],\n",
       "       [PauliOp(Pauli('IIIIZIII'), coeff=1.0),\n",
       "        PauliOp(Pauli('IIIIZIII'), coeff=1.0)],\n",
       "       [PauliOp(Pauli('IIIZIIII'), coeff=1.0),\n",
       "        PauliOp(Pauli('IIIZIIII'), coeff=1.0)],\n",
       "       [PauliOp(Pauli('IIZIIIII'), coeff=1.0),\n",
       "        PauliOp(Pauli('IIZIIIII'), coeff=1.0)],\n",
       "       [PauliOp(Pauli('IZIIIIII'), coeff=1.0),\n",
       "        PauliOp(Pauli('IZIIIIII'), coeff=1.0)],\n",
       "       [PauliOp(Pauli('ZIIIIIII'), coeff=1.0),\n",
       "        PauliOp(Pauli('ZIIIIIII'), coeff=1.0)]], dtype=object)"
      ]
     },
     "execution_count": 5,
     "metadata": {},
     "output_type": "execute_result"
    }
   ],
   "source": [
    "pauli_conf"
   ]
  },
  {
   "cell_type": "markdown",
   "id": "defensive-visiting",
   "metadata": {},
   "source": [
    "# Create qubits for conformation"
   ]
  },
  {
   "cell_type": "code",
   "execution_count": 6,
   "id": "assumed-blanket",
   "metadata": {},
   "outputs": [],
   "source": [
    "qubits = _create_qubits_for_conf(pauli_conf)"
   ]
  },
  {
   "cell_type": "code",
   "execution_count": 7,
   "id": "vocal-property",
   "metadata": {},
   "outputs": [],
   "source": [
    "def _create_indic_turn(N, side_chain, qubits):\n",
    "    if len(side_chain)!= N:\n",
    "        raise Exception('size of side_chain list is not equal to N')\n",
    "    num_turns = N - 1 \n",
    "    indic_0 = np.zeros((num_turns, 2), dtype=object)\n",
    "    indic_1 = np.zeros((num_turns, 2), dtype=object)\n",
    "    indic_2 = np.zeros((num_turns, 2), dtype=object)\n",
    "    indic_3 = np.zeros((num_turns, 2), dtype=object)\n",
    "    r_conf = 0\n",
    "    for i in range(num_turns):\n",
    "        for m in range(2):\n",
    "            if m == 1:\n",
    "                if side_chain[i - 1] == 0:\n",
    "                    continue\n",
    "                else:\n",
    "                    pass\n",
    "            indic_0[i][m] = (FULL_ID - qubits[2*i][m])@(FULL_ID - qubits[2*i + 1][m])\n",
    "            indic_1[i][m] = qubits[2*i + 1][m]@(qubits[2*i + 1][m] - 1*qubits[2*i][m])\n",
    "            indic_2[i][m] = qubits[2*i][m]@(qubits[2*i][m] -1*qubits[2*i + 1][m])\n",
    "            indic_3[i][m] = qubits[2*i][m]@(qubits[2*i + 1][m])\n",
    "            r_conf += 1\n",
    "    num_qubits = 2*r_conf - 5\n",
    "    print('number of qubits required for conformation: ', num_qubits)\n",
    "    return indic_0, indic_1, indic_2, indic_3, num_qubits\n",
    "\n",
    "\n",
    "def _check_turns(i, p, j, s,\n",
    "                 indic0, indic1, indic2,\n",
    "                 indic3, pauli_conf):\n",
    "#     t_ij = indic0[i][p]@indic0[j][s]\n",
    "#     t_ij.add(indic1[i][p]@indic1[j][s])\n",
    "#     t_ij.add(indic2[i][p]@indic2[j][s])\n",
    "#     t_ij.add(indic3[i][p]@indic3[j][s]) \n",
    "    t_ij = indic0[i][p]@indic0[j][s] + indic1[i][p]@indic1[j][s] + \\\n",
    "           indic2[i][p]@indic2[j][s] + indic3[i][p]@indic3[j][s] \n",
    "#     t_ij = t_ij.reduce()\n",
    "    return t_ij\n",
    "\n",
    "\n",
    "def _create_H_back(N, lambda_back, indic_0,\n",
    "                   indic_1, indic_2, indic_3,\n",
    "                   pauli_conf):\n",
    "    H_back = 0\n",
    "    for i in range(N - 2):\n",
    "        H_back += lambda_back*_check_turns(i, 0, i + 1, 0,\n",
    "                                           indic_0, indic_1, indic_2, indic_3, pauli_conf)\n",
    "    H_back = H_back.reduce()\n",
    "    return H_back"
   ]
  },
  {
   "cell_type": "code",
   "execution_count": 8,
   "id": "square-seller",
   "metadata": {},
   "outputs": [
    {
     "name": "stdout",
     "output_type": "stream",
     "text": [
      "number of qubits required for conformation:  3\n"
     ]
    }
   ],
   "source": [
    "indic_0, indic_1, indic_2, indic_3, num_qubits = _create_indic_turn(N, side_chain, qubits)\n",
    "H_back = 0\n",
    "H_back = _create_H_back(N, lambda_back, indic_0, indic_1, indic_2, indic_3, pauli_conf)"
   ]
  },
  {
   "cell_type": "code",
   "execution_count": 9,
   "id": "mounted-switzerland",
   "metadata": {},
   "outputs": [
    {
     "name": "stdout",
     "output_type": "stream",
     "text": [
      "0.0625 * IIIIIIII\n",
      "- 0.0625 * ZIIIIIII\n",
      "- 0.0625 * IZIIIIII\n",
      "+ 0.0625 * ZZIIIIII\n",
      "- 0.0625 * IIZIIIII\n",
      "+ 0.0625 * ZIZIIIII\n",
      "+ 0.0625 * IZZIIIII\n",
      "- 0.0625 * ZZZIIIII\n",
      "- 0.0625 * IIIZIIII\n",
      "+ 0.0625 * ZIIZIIII\n",
      "+ 0.0625 * IZIZIIII\n",
      "- 0.0625 * ZZIZIIII\n",
      "+ 0.0625 * IIZZIIII\n",
      "- 0.0625 * ZIZZIIII\n",
      "- 0.0625 * IZZZIIII\n",
      "+ 0.0625 * ZZZZIIII\n"
     ]
    }
   ],
   "source": [
    "i = 2\n",
    "j = 3\n",
    "p = 0\n",
    "s = 0\n",
    "# t_ij = indic_0[i][p]@indic_0[j][s] + indic_1[i][p]@indic_1[j][s] + \\\n",
    "#            indic_2[i][p]@indic_2[j][s] + indic_3[i][p]@indic_3[j][s] \n",
    "t_ij = indic_3[i][p]@indic_3[j][s]\n",
    "print(t_ij.reduce())"
   ]
  },
  {
   "cell_type": "code",
   "execution_count": 10,
   "id": "numerical-adaptation",
   "metadata": {},
   "outputs": [
    {
     "name": "stdout",
     "output_type": "stream",
     "text": [
      "Term is 0.25 * IIIIIIII\n",
      "- 0.25 * IIIIIIZI\n",
      "- 0.25 * IIIIIIIZ\n",
      "+ 0.25 * IIIIIIZZ\n",
      "Term is 0.25 * IIIIIIII\n",
      "- 0.25 * IIIIZIII\n",
      "- 0.25 * IIIIIZII\n",
      "+ 0.25 * IIIIZZII\n",
      "Term is 0.25 * IIIIIIII\n",
      "- 0.25 * IIZIIIII\n",
      "- 0.25 * IIIZIIII\n",
      "+ 0.25 * IIZZIIII\n",
      "Term is 0.25 * IIIIIIII\n",
      "- 0.25 * ZIIIIIII\n",
      "- 0.25 * IZIIIIII\n",
      "+ 0.25 * ZZIIIIII\n"
     ]
    }
   ],
   "source": [
    "for i in indic_3:\n",
    "    print('Term is {}'.format(i[0]))"
   ]
  },
  {
   "cell_type": "code",
   "execution_count": 11,
   "id": "psychological-phone",
   "metadata": {},
   "outputs": [],
   "source": [
    "# first_binaries = [1, -1, 1, 1, 0, -1]\n",
    "# for k in [1, 2, 3, 4, 6]:\n",
    "#     print('Pauli to replace at k = {} is {}'.format(k,first_binaries[k-1]))"
   ]
  },
  {
   "cell_type": "code",
   "execution_count": 12,
   "id": "progressive-paris",
   "metadata": {},
   "outputs": [],
   "source": [
    "# # need to update indic turns based on pre-set binaries\n",
    "# indic = indic_3.copy()\n",
    "# indic_updated = indic_3.copy()\n",
    "# num_turns = N - 1\n",
    "# new_tables = []\n",
    "# new_coeffs = []\n",
    "\n",
    "# for i in range(num_turns):\n",
    "#         coeffs = np.copy(indic[i][0].primitive.coeffs[0])\n",
    "#         if table_Z[1] == np.bool_(True):\n",
    "#             coeffs = -1*coeffs\n",
    "#         if table_Z[5] == np.bool_(True):\n",
    "#             coeffs = -1*coeffs\n",
    "# for i in range(num_turns):\n",
    "#     for j in range(num_turns):\n",
    "#         table_Z = np.copy(indic[i][0].primitive[j].table.Z[0])\n",
    "#         table_X = np.copy(indic[i][0].primitive[j].table.X[0])\n",
    "#         # get coeffs and update \n",
    "#         coeffs = np.copy(indic[i][0].primitive[j].coeffs[0])\n",
    "#         if table_Z[1] == np.bool_(True):\n",
    "#             coeffs = -1*coeffs\n",
    "#         if table_Z[5] == np.bool_(True):\n",
    "#             coeffs = -1*coeffs\n",
    "#         # impose preset binary values\n",
    "#         table_Z[0] = np.bool_(False)\n",
    "#         table_Z[1] = np.bool_(False)\n",
    "#         table_Z[2] = np.bool_(False)\n",
    "#         table_Z[3] = np.bool_(False)\n",
    "#         table_Z[5] = np.bool_(False)\n",
    "#         print(table_Z)\n",
    "#         new_table = np.concatenate((table_X, table_Z), axis=0)\n",
    "#         new_tables.append(new_table)\n",
    "#         new_coeffs.append(coeffs)\n",
    "#     new_pauli_table = PauliTable(data=new_tables)\n",
    "#     indic_updated[i][0] = PauliSumOp(SparsePauliOp(data=new_pauli_table))\n",
    "\n",
    "        \n",
    "            \n",
    "        "
   ]
  },
  {
   "cell_type": "code",
   "execution_count": 13,
   "id": "lesbian-initial",
   "metadata": {},
   "outputs": [
    {
     "data": {
      "text/plain": [
       "array([ 0.25+0.j, -0.25+0.j, -0.25+0.j,  0.25+0.j])"
      ]
     },
     "execution_count": 13,
     "metadata": {},
     "output_type": "execute_result"
    }
   ],
   "source": [
    "indic_3[0][0].primitive.coeffs"
   ]
  },
  {
   "cell_type": "code",
   "execution_count": 14,
   "id": "stretch-blackberry",
   "metadata": {},
   "outputs": [
    {
     "name": "stdout",
     "output_type": "stream",
     "text": [
      "7.5 * IIIIIIII\n",
      "2.5 * ZIZIIIII\n",
      "2.5 * IZIZIIII\n",
      "2.5 * ZZZZIIII\n",
      "2.5 * IIZIZIII\n",
      "2.5 * IIIZIZII\n",
      "2.5 * IIZZZZII\n",
      "2.5 * IIIIZIZI\n",
      "2.5 * IIIIIZIZ\n",
      "2.5 * IIIIZZZZ\n"
     ]
    }
   ],
   "source": [
    "for H in H_back:\n",
    "    print(H)"
   ]
  },
  {
   "cell_type": "code",
   "execution_count": null,
   "id": "minor-carroll",
   "metadata": {},
   "outputs": [],
   "source": []
  }
 ],
 "metadata": {
  "kernelspec": {
   "display_name": "Python 3",
   "language": "python",
   "name": "python3"
  },
  "language_info": {
   "codemirror_mode": {
    "name": "ipython",
    "version": 3
   },
   "file_extension": ".py",
   "mimetype": "text/x-python",
   "name": "python",
   "nbconvert_exporter": "python",
   "pygments_lexer": "ipython3",
   "version": "3.8.5"
  }
 },
 "nbformat": 4,
 "nbformat_minor": 5
}
